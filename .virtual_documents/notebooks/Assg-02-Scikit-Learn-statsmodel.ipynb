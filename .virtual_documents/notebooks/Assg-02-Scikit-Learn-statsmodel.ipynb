








# The following ipython magic will reload changed file/modules.
# So when editing function in source code modules, you should
# be able to just rerun the cell, not restart the whole kernel.
%load_ext autoreload
%autoreload 2


# all imports that you use for this assignment should be placed in these next 2
# cells.  If you need to import a whole module put it here, or if importing a
# specific class or function from a module, put in the next cell.
import numpy as np
import matplotlib.pyplot as plt
import pandas as pd
import seaborn as sns


# By convention, we often just import the specific classes/functions in notebooks
# from scikit-learn we will need to train a model and perform prediction.
# Here we include some of the classes and functions you should need for this
# assignment from the sklearn library, but there could be other methods you might
# want to try or would be useful to the way you approach the problem, so feel free
# to import others you might need or want to try from sklearn
from sklearn.linear_model import LinearRegression
from sklearn.linear_model import LogisticRegression
from sklearn.metrics import mean_squared_error
from sklearn.metrics import r2_score
from sklearn.metrics import accuracy_score
from sklearn.metrics import confusion_matrix
from sklearn.preprocessing import OrdinalEncoder
from sklearn.impute import SimpleImputer
from sklearn.model_selection import cross_val_score

# statsmodels has an api, it is often imported as sm by convention
import statsmodels.api as sm


# Import functions/moduls from this project.  We manually set the
# PYTHONPATH to append the location to search for this assignments
# functions to just ensure the imports are found
import sys
sys.path.append("../src")

# assignment function imports for unittests and github autograding
# these are required for assignment autograding
from assg_utils import run_unittests, run_doctests
from assg_tasks import task1_sklearn_linear_regression, task1_statsmodel_linear_regression
from assg_tasks import task2_label_encoding, task2_impute_missing_data
from assg_tasks import task2_sklearn_logistic_regression, task2_statsmodel_logistic_regression


# set default figure size, 8in by 6in and figure properties here for this notebook,
# please don't change these in final submission of your work
#%matplotlib notebook
plt.rcParams['figure.figsize'] = (10, 8) 








# load file into a dataframe here, remove the stub dataframe from here
data = {'RainTomorrow': [0, 0, 0, 0], 'Pressure': [0, 0, 0, 0]}
df = pd.DataFrame(data)





# 1. determine number of samples and number of features here


# 2. determine feature types


# 3. display basic information about the range of numeric features in the data 


# 4. determine if there are any missing data in the dataset, show counts of missing data for each feature


# 5. show feature-to-feature correlation of the numeric features we currently have in this data





# create the asked for visualization here.  Make sure you use a scatter plot and label your axis





# 1. extract the X input feature for the linear regression, ensure it is a numpy
# array of the correct expected shape, remove/replace the X declaration here
X = np.zeros((2,2))


# 2. extract the y target regression labels, ensure it is a numpy vector, remove/replace
# the y declaration here
y = np.zeros((2,))


# 3. your work should go into the src/assg_tasks.py function named task1_sklearn_linear_regression()
# This cell must not be removed or modified, it calls your function to create a model and
# return the fitted parameters from the regression, and it runs unit tests to see if your
# model fit matches the expected fit you should get
model, intercept, slope, mse, rmse, rsquared = task1_sklearn_linear_regression(X, y)

# run the unit tests so you can see if your fitted model got the expected results
# if any of these tests do not pass (don't get ok result) you have done something
# wrong in creating your data and/or fitting your model and extracting the
# fit parameters
run_unittests(['test_task1_sklearn_linear_regression']);


# You don't have to do anything here, these will display the model fit parameters
# you return from your function.  You can compare your parameters and results to
# the expected unit test results in the src/test_assg_tasks.py file
print('sklearn intercept: ', intercept)
print('sklearn slope:     ', slope)
print('sklearn mse:       ', mse)
print('sklearn rmse:      ', rmse)
print('sklearn R^2 score: ', rsquared)


# 4. replot scatter plot of data adding in fitted regression model line to plot





# your work should go into the src/assg_tasks.py function named task1_statsmodel_linear_regerssion()
# This cell must not be removed or modified, it calls your function to create a model and
# return the fitted parameters from the regression, and it runs doctests to see if your
# model fit matches the expected fit you should get
model, intercept, slope, mse, rmse, rsquared = task1_statsmodel_linear_regression(y, X)

# run the unit tests so you can see if your fitted model got the expected results
# if any of these tests do not pass (don't get ok result) you have done something
# wrong in creating your data and/or fitting your model and extracting the
# fit parameters
run_unittests(['test_task1_statsmodel_linear_regression']);


# 2. Determine the model parameter slope and intercept terms as well as the rsquared fit result
# and return these along with the model.  You don't have to do anything in this cell, the
# returned parameters displayed should match the expected values for the unit tests found in
# src/test_assg_tasks.py
print('statsmodel intercept: ', intercept)
print('statsmodel slope:     ', slope)
print('statsmodel mse:       ', mse)
print('statsmodel rmse:      ', rmse)
print('statsmodel R^2 score: ', rsquared)


# 3. display summary information about the statsmodel OLS linear regression model fit








# 1. verify that the rain tomorrow string attribute is a binary categorical variable by
#    determining all unique categories and counting the number of each unique category


# 2. create ordinal encoder pipeline to encode the rain tomorrow attribute


# 3. encode the rain tomorrow as categorical variables and save result in array
#    array y or labels for training


# 4. double check that no is encoded as 0 and yes as 1 in ordinal encoding





# your work should go into the src/assg_tasks.py function named task2_label_encoding()
# This cell must not be removed or modified
# For this test, you just need to create the y labels correctly as
# described before they are tested here
y, ndim, shape, num_no, num_yes = task2_label_encoding(df.RainTomorrow)

# run the unit tests so we can see if the encoded categorical labels are done as required
run_unittests(['test_task2_label_encoding']);


print('Label number of dimensions: ', ndim)
print('Label shape               : ', shape)
print('Label number of no labels : ', num_no)
print('Label number of yes labels: ', num_yes)





# 1. Create a new dataframe/numpy array with only the 2 features Sunshine and Pressure3pm


# 2. Determine number of missing values in Sunshine and Pressuer3pm features


# 3. Create a simple imputer to fill in missing values with mean value of attribute


# 4. Impute missing values and fill them in with the mean of the attribute


# 5. Confirm that there are no longer any missing values





# your work should go into the src/assg_tasks.py function named task2_impute_missing_data()
# This cell must not be removed or modified
# For this test, you just need to create the X features dataframe correctly as
# described before it is tested here, and return the properties shown for testing
X, ndim, shape, columns, na_sum = task2_impute_missing_data(df)

# run the doc tests so you can see the imputed missing values have been done correctly
run_unittests(['test_task2_impute_missing_data']);


# you don't need to do anything in this cell, but you can check that the properties that
# you return here match those tested in the test_assg_tasks.py file for this function
print('Features number of dimensions: ', ndim)
print('Features shape               : ', shape)
print('Features columns: ')
print(columns)
print('Features na sums: ')
print(na_sum)





# create your plot here that
# 1. scatter plot Sunshine as x axis variable and  as y axis variable
# 2. perform separate plots for samples where rain tomorrow is yes, vs. where rain tomorrow is no
#    use color/shape to differentiate these two categories in the plot
# 3. create a legend that identifies rain tomorrow yes/no points in figure
# 4. make sure you label your axes and add any other useful information to the figure





# your work should go into the src/assg_tasks.py function named task2_sklearn_logistic_regression()
# This cell must not be removed or modified, it calls your function to create a model and
# return the fitted parameters from the regression, and it runs doctests to see if your
# model fit matches the expected fit you should get
model, intercept, slopes, accuracy = task2_sklearn_logistic_regression(X, y)

# run the unit tests so you can see if your fitted model got the expected results
# if any of these tests do not pass (don't get ok result) you have done something
# wrong in creating your data and/or fitting your model and extracting the
# fit parameters
run_unittests(['test_task2_sklearn_logistic_regression']);


# The parameters returned from your function, should match and pass the expected
# results in the tests found in src/test_assg_tasks.py for this function
print('sklearn logistic regression intercept:         ', intercept)
print('sklearn logistic regression slope coefficients:', slopes)
print('sklearn logistic regression model accuracy:    ', accuracy)


# 2. Display a confusion matrix of the performance of the model here





# put your work to recreate the visualization of the computed decision boundary here
# separate out rain vs. no rain to plot separately





# your work should go into the src/Task2statsmodel function named task2_statsmodel()
# This cell must not be removed or modified, it calls your function to create a model and
# return the fitted parameters from the regression, and it runs doctests to see if your
# model fit matches the expected fit you should get
model, intercept, slopes, accuracy = task2_statsmodel_logistic_regression(y, X)

# run the unit tests so you can see if your fitted model got the expected results
# if any of these tests do not pass (don't get ok result) you have done something
# wrong in creating your data and/or fitting your model and extracting the
# fit parameters
run_unittests(['test_task2_statsmodel_logistic_regression']);


# The parameters returned from your function, should match and pass the expected
# results in the src/test_assg_tasks.py unit tests of this function
print('statsmodel logistic regression intercept:         ', intercept)
print('statsmodel logistic regression slope coefficients:', slopes)
print('statsmodel logistic regression model accuracy:    ', accuracy)


# 2. Display a summary of the statsmodel fit here








# extra credit work adding in RISK_MM feature here
